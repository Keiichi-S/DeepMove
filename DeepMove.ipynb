{
 "cells": [
  {
   "cell_type": "code",
   "execution_count": 1,
   "metadata": {},
   "outputs": [],
   "source": [
    "import tensorflow as tf\n",
    "from tensorflow.keras.layers import *\n",
    "from tensorflow.keras import Model\n",
    "import numpy as np"
   ]
  },
  {
   "cell_type": "markdown",
   "metadata": {},
   "source": [
    "# 擬似入力データ"
   ]
  },
  {
   "cell_type": "code",
   "execution_count": 7,
   "metadata": {},
   "outputs": [
    {
     "name": "stdout",
     "output_type": "stream",
     "text": [
      "user.shape=(2, 1000), current_youbi.shape=(2, 7, 7), history_youti.shape=(2, 14, 7), current.shape=(2, 7, 32), history.shape=(2, 14, 32)\n"
     ]
    }
   ],
   "source": [
    "# batch_size = 2\n",
    "user = np.zeros((2,1000))\n",
    "user[0][1] = 1.0\n",
    "user[1][444] = 1.0\n",
    "current_youbi = np.array([[[1,0,0,0,0,0,0], [1,0,0,0,0,0,0], [1,0,0,0,0,0,0], [1,0,0,0,0,0,0], [1,0,0,0,0,0,0], [1,0,0,0,0,0,0], [1,0,0,0,0,0,0]],\n",
    "                          [[1,0,0,0,0,0,0], [1,0,0,0,0,0,0], [1,0,0,0,0,0,0], [1,0,0,0,0,0,0], [1,0,0,0,0,0,0], [1,0,0,0,0,0,0], [1,0,0,0,0,0,0]]]).astype(\"float32\")\n",
    "history_youbi = np.array([[[1,0,0,0,0,0,0], [1,0,0,0,0,0,0], [1,0,0,0,0,0,0], [1,0,0,0,0,0,0], [1,0,0,0,0,0,0], [1,0,0,0,0,0,0], [1,0,0,0,0,0,0], [1,0,0,0,0,0,0], [1,0,0,0,0,0,0], [1,0,0,0,0,0,0], [1,0,0,0,0,0,0], [1,0,0,0,0,0,0], [1,0,0,0,0,0,0], [1,0,0,0,0,0,0]],\n",
    "                          [[1,0,0,0,0,0,0], [1,0,0,0,0,0,0], [1,0,0,0,0,0,0], [1,0,0,0,0,0,0], [1,0,0,0,0,0,0], [1,0,0,0,0,0,0], [1,0,0,0,0,0,0], [1,0,0,0,0,0,0], [1,0,0,0,0,0,0], [1,0,0,0,0,0,0], [1,0,0,0,0,0,0], [1,0,0,0,0,0,0], [1,0,0,0,0,0,0], [1,0,0,0,0,0,0]]]).astype(\"float32\")\n",
    "current = np.random.randint(2, size=(2, 7, 32)).astype(\"float32\")\n",
    "history = np.random.randint(2, size=(2, 14, 32)).astype(\"float32\")\n",
    "\n",
    "print(f\"user.shape={user.shape}, current_youbi.shape={current_youbi.shape}, history_youti.shape={history_youbi.shape}, current.shape={current.shape}, history.shape={history.shape}\")"
   ]
  },
  {
   "cell_type": "markdown",
   "metadata": {},
   "source": [
    "# MultiModalEmbedding"
   ]
  },
  {
   "cell_type": "code",
   "execution_count": 18,
   "metadata": {},
   "outputs": [],
   "source": [
    "class MultiModalEmbedding(Layer):\n",
    "    def __init__(self):\n",
    "        super(MultiModalEmbedding, self).__init__()\n",
    "        self.time_embedding = Dense(16)\n",
    "        self.user_embedding = Dense(16)\n",
    "        self.location_embedding = Dense(256)\n",
    "        \n",
    "    def call(self, u, current_youbi, history_youbi, current, history):\n",
    "        user_embed = tf.reshape(self.user_embedding(u), [-1, 1, 16]) #(batch, 1, 16)\n",
    "        current_embed = self.location_embedding(current) #(batch, 7, 256)\n",
    "        history_embed = self.location_embedding(history) #(batch, 14, 256)　\n",
    "        current_time_embed = self.time_embedding(current_youbi) #(batch, 7, 16)\n",
    "        history_time_embed = self.time_embedding(history_youbi) #(batch, 14, 16)\n",
    "        return user_embed, current_embed, history_embed, current_time_embed, history_time_embed"
   ]
  },
  {
   "cell_type": "markdown",
   "metadata": {},
   "source": [
    "## MultiModalEmbedding　テスト"
   ]
  },
  {
   "cell_type": "code",
   "execution_count": 19,
   "metadata": {},
   "outputs": [
    {
     "name": "stdout",
     "output_type": "stream",
     "text": [
      "WARNING:tensorflow:Layer multi_modal_embedding_4 is casting an input tensor from dtype float64 to the layer's dtype of float32, which is new behavior in TensorFlow 2.  The layer has dtype float32 because it's dtype defaults to floatx.\n",
      "\n",
      "If you intended to run this layer in float32, you can safely ignore this warning. If in doubt, this warning is likely only an issue if you are porting a TensorFlow 1.X model to TensorFlow 2.\n",
      "\n",
      "To change all layers to have dtype float64 by default, call `tf.keras.backend.set_floatx('float64')`. To change just this layer, pass dtype='float64' to the layer constructor. If you are the author of this layer, you can disable autocasting by passing autocast=False to the base Layer constructor.\n",
      "\n",
      "user_embed.shape=(2, 1, 16), current_embed.shape=(2, 7, 256), history_embed.shape=(2, 14, 256), current_time_embed.shape=(2, 7, 16), history_time_embed.shape=(2, 14, 16)\n"
     ]
    }
   ],
   "source": [
    "embedding = MultiModalEmbedding()\n",
    "user_embed, current_embed, history_embed, current_time_embed, history_time_embed = embedding(user, current_youbi, history_youbi, current, history)\n",
    "print(f\"user_embed.shape={user_embed.shape}, current_embed.shape={current_embed.shape}, history_embed.shape={history_embed.shape}, current_time_embed.shape={current_time_embed.shape}, history_time_embed.shape={history_time_embed.shape}\")"
   ]
  },
  {
   "cell_type": "markdown",
   "metadata": {},
   "source": [
    "# HistoricalAttention"
   ]
  },
  {
   "cell_type": "code",
   "execution_count": 20,
   "metadata": {},
   "outputs": [],
   "source": [
    "class HistoricalAttention(Layer):\n",
    "    def __init__(self):\n",
    "        super(HistoricalAttention, self).__init__()\n",
    "        self.dense = Dense(256, activation=\"tanh\")\n",
    "        self.gru = GRU(256, return_sequences=True)\n",
    "        self.W = Dense(256, use_bias=False)\n",
    "        \n",
    "    def call(self, history_embed, time_embed, query):\n",
    "        history = tf.concat([history_embed, time_embed], axis=2) #(batch, 14, 256+16)\n",
    "        history = self.dense(history) #(batch, 14, 256)\n",
    "        candidate = self.gru(history) #(batch, 14, 256)\n",
    "        \n",
    "        left = self.W(query) #(batch, 1, 256)\n",
    "        score = tf.nn.tanh(tf.matmul(left, candidate, transpose_b=True)) #(batch, 1, 14)\n",
    "        attention_weights = tf.nn.softmax(score) #(batch, 1, 14)\n",
    "        \n",
    "        context = tf.matmul(attention_weights, candidate) #(batch, 1, 256)\n",
    "        \n",
    "        return context\n",
    "        "
   ]
  },
  {
   "cell_type": "markdown",
   "metadata": {},
   "source": [
    "## HistoricalAttention　テスト"
   ]
  },
  {
   "cell_type": "code",
   "execution_count": 21,
   "metadata": {},
   "outputs": [
    {
     "name": "stdout",
     "output_type": "stream",
     "text": [
      "WARNING:tensorflow:Layer dense_26 is casting an input tensor from dtype float64 to the layer's dtype of float32, which is new behavior in TensorFlow 2.  The layer has dtype float32 because it's dtype defaults to floatx.\n",
      "\n",
      "If you intended to run this layer in float32, you can safely ignore this warning. If in doubt, this warning is likely only an issue if you are porting a TensorFlow 1.X model to TensorFlow 2.\n",
      "\n",
      "To change all layers to have dtype float64 by default, call `tf.keras.backend.set_floatx('float64')`. To change just this layer, pass dtype='float64' to the layer constructor. If you are the author of this layer, you can disable autocasting by passing autocast=False to the base Layer constructor.\n",
      "\n",
      "context.shape=(2, 1, 256)\n"
     ]
    }
   ],
   "source": [
    "attention = HistoricalAttention()\n",
    "query = np.random.random(size=(2, 1, 256))\n",
    "context = attention(history_embed, history_time_embed, query)\n",
    "print(f\"context.shape={context.shape}\")"
   ]
  },
  {
   "cell_type": "markdown",
   "metadata": {},
   "source": [
    "# DeepMove"
   ]
  },
  {
   "cell_type": "code",
   "execution_count": 22,
   "metadata": {},
   "outputs": [],
   "source": [
    "class DeepMove(Model):\n",
    "    def __init__(self):\n",
    "        super(DeepMove, self).__init__()\n",
    "        self.multi_modal_embedding = MultiModalEmbedding()\n",
    "        self.historical_attention = HistoricalAttention()\n",
    "        self.gru = GRU(256)\n",
    "        self.dense = Dense(32, activation=\"sigmoid\")\n",
    "        \n",
    "    def call(self, user, current_youbi, history_youbi, current, history):\n",
    "        user_embed, current_embed, history_embed, current_time_embed, history_time_embed = self.multi_modal_embedding(user, current_youbi, history_youbi, current, history)\n",
    "        current = tf.concat([current_embed, current_time_embed], axis=2) #(batch, 7, 256+16)\n",
    "        query = tf.reshape(self.gru(current), [-1, 1, 256]) #(batch, 1, 256)\n",
    "        context = self.historical_attention(history_embed, history_time_embed, query) #(batch, 1, 256)\n",
    "        all_features = tf.concat([context, query, user_embed], axis=2) #(batch, 1, 256+256+16)\n",
    "        return self.dense(all_features) #(batch, 1, 32)"
   ]
  },
  {
   "cell_type": "markdown",
   "metadata": {},
   "source": [
    "## DeepMove　テスト"
   ]
  },
  {
   "cell_type": "code",
   "execution_count": 23,
   "metadata": {},
   "outputs": [
    {
     "name": "stdout",
     "output_type": "stream",
     "text": [
      "WARNING:tensorflow:Layer deep_move_2 is casting an input tensor from dtype float64 to the layer's dtype of float32, which is new behavior in TensorFlow 2.  The layer has dtype float32 because it's dtype defaults to floatx.\n",
      "\n",
      "If you intended to run this layer in float32, you can safely ignore this warning. If in doubt, this warning is likely only an issue if you are porting a TensorFlow 1.X model to TensorFlow 2.\n",
      "\n",
      "To change all layers to have dtype float64 by default, call `tf.keras.backend.set_floatx('float64')`. To change just this layer, pass dtype='float64' to the layer constructor. If you are the author of this layer, you can disable autocasting by passing autocast=False to the base Layer constructor.\n",
      "\n",
      "out=(2, 1, 32)\n"
     ]
    }
   ],
   "source": [
    "deepmove = DeepMove()\n",
    "out = deepmove(user, current_youbi, history_youbi, current, history)\n",
    "print(f\"out={out.shape}\")"
   ]
  }
 ],
 "metadata": {
  "kernelspec": {
   "display_name": "Python 3",
   "language": "python",
   "name": "python3"
  },
  "language_info": {
   "codemirror_mode": {
    "name": "ipython",
    "version": 3
   },
   "file_extension": ".py",
   "mimetype": "text/x-python",
   "name": "python",
   "nbconvert_exporter": "python",
   "pygments_lexer": "ipython3",
   "version": "3.7.4"
  }
 },
 "nbformat": 4,
 "nbformat_minor": 2
}
